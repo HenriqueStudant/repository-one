{
  "cells": [
    {
      "cell_type": "markdown",
      "metadata": {
        "id": "view-in-github",
        "colab_type": "text"
      },
      "source": [
        "<a href=\"https://colab.research.google.com/github/HenriqueStudant/repository-one/blob/main/Program_fruit.ipynb\" target=\"_parent\"><img src=\"https://colab.research.google.com/assets/colab-badge.svg\" alt=\"Open In Colab\"/></a>"
      ]
    },
    {
      "cell_type": "markdown",
      "source": [
        "# Nova seção"
      ],
      "metadata": {
        "id": "vric_f0ZkhCC"
      }
    },
    {
      "cell_type": "code",
      "source": [
        "fruta_preferida = input (\"Qual a sua fruta preferida?\")\n",
        "def frutas ():\n",
        "  return \"banana\"\n",
        "  return \"maçã\"\n",
        "  return \"uva\"\n",
        "  return \"morango\"\n",
        "  return \"laranja\"\n",
        "  return \"pera\" and \"Pera\"\n",
        "  return \"caqui\" and \"Caqui\"\n",
        "\n",
        "if fruta_preferida == \"pera\" and \"Pera\":\n",
        "    print(\"I like too. This fruit is my favorite!\")\n",
        "elif fruta_preferida == \"morango\" and \"Morango\":\n",
        "    print(\"I like the juice of strawberry!\")\n",
        "else :\n",
        "    print(\"Oh! Cool! This fruit is not my favorite, but i eat!\")\n",
        "\n",
        "\n",
        "\n"
      ],
      "metadata": {
        "colab": {
          "base_uri": "https://localhost:8080/"
        },
        "id": "-lSu_gmiksMD",
        "outputId": "6d6f0179-be66-4a10-82c6-1df0dca70d39"
      },
      "execution_count": 1,
      "outputs": [
        {
          "output_type": "stream",
          "name": "stdout",
          "text": [
            "Qual a sua fruta preferida?laranja\n",
            "Oh! Cool! This fruit is not my favorite, but i eat!\n"
          ]
        }
      ]
    }
  ],
  "metadata": {
    "colab": {
      "provenance": [],
      "include_colab_link": true
    },
    "kernelspec": {
      "display_name": "Python 3",
      "name": "python3"
    }
  },
  "nbformat": 4,
  "nbformat_minor": 0
}